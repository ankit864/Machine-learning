{
 "cells": [
  {
   "cell_type": "code",
   "execution_count": 1,
   "metadata": {
    "collapsed": false
   },
   "outputs": [
    {
     "data": {
      "text/html": [
       "<div style=\"max-height:1000px;max-width:1500px;overflow:auto;\">\n",
       "<table border=\"1\" class=\"dataframe\">\n",
       "  <thead>\n",
       "    <tr style=\"text-align: right;\">\n",
       "      <th></th>\n",
       "      <th>flash_episode</th>\n",
       "      <th>flash_us_viewers</th>\n",
       "      <th>arrow_episode</th>\n",
       "      <th>arrow_us_viewers</th>\n",
       "    </tr>\n",
       "  </thead>\n",
       "  <tbody>\n",
       "    <tr>\n",
       "      <th>0</th>\n",
       "      <td> 1</td>\n",
       "      <td> 4.83</td>\n",
       "      <td> 1</td>\n",
       "      <td> 2.84</td>\n",
       "    </tr>\n",
       "    <tr>\n",
       "      <th>1</th>\n",
       "      <td> 2</td>\n",
       "      <td> 4.27</td>\n",
       "      <td> 2</td>\n",
       "      <td> 2.32</td>\n",
       "    </tr>\n",
       "    <tr>\n",
       "      <th>2</th>\n",
       "      <td> 3</td>\n",
       "      <td> 3.59</td>\n",
       "      <td> 3</td>\n",
       "      <td> 2.55</td>\n",
       "    </tr>\n",
       "    <tr>\n",
       "      <th>3</th>\n",
       "      <td> 4</td>\n",
       "      <td> 3.53</td>\n",
       "      <td> 4</td>\n",
       "      <td> 2.49</td>\n",
       "    </tr>\n",
       "    <tr>\n",
       "      <th>4</th>\n",
       "      <td> 5</td>\n",
       "      <td> 4.46</td>\n",
       "      <td> 5</td>\n",
       "      <td> 2.73</td>\n",
       "    </tr>\n",
       "    <tr>\n",
       "      <th>5</th>\n",
       "      <td> 6</td>\n",
       "      <td> 3.73</td>\n",
       "      <td> 6</td>\n",
       "      <td> 2.60</td>\n",
       "    </tr>\n",
       "    <tr>\n",
       "      <th>6</th>\n",
       "      <td> 7</td>\n",
       "      <td> 3.47</td>\n",
       "      <td> 7</td>\n",
       "      <td> 2.64</td>\n",
       "    </tr>\n",
       "    <tr>\n",
       "      <th>7</th>\n",
       "      <td> 8</td>\n",
       "      <td> 4.34</td>\n",
       "      <td> 8</td>\n",
       "      <td> 3.92</td>\n",
       "    </tr>\n",
       "    <tr>\n",
       "      <th>8</th>\n",
       "      <td> 9</td>\n",
       "      <td> 4.66</td>\n",
       "      <td> 9</td>\n",
       "      <td> 3.06</td>\n",
       "    </tr>\n",
       "  </tbody>\n",
       "</table>\n",
       "</div>"
      ],
      "text/plain": [
       "   flash_episode  flash_us_viewers  arrow_episode  arrow_us_viewers\n",
       "0              1              4.83              1              2.84\n",
       "1              2              4.27              2              2.32\n",
       "2              3              3.59              3              2.55\n",
       "3              4              3.53              4              2.49\n",
       "4              5              4.46              5              2.73\n",
       "5              6              3.73              6              2.60\n",
       "6              7              3.47              7              2.64\n",
       "7              8              4.34              8              3.92\n",
       "8              9              4.66              9              3.06"
      ]
     },
     "execution_count": 1,
     "metadata": {},
     "output_type": "execute_result"
    }
   ],
   "source": [
    "%matplotlib inline\n",
    "\n",
    "import matplotlib.pyplot as plt\n",
    "import numpy as np\n",
    "import pandas as pd\n",
    "from sklearn import datasets, linear_model\n",
    "data = pd.read_csv('data.csv')\n",
    "data"
   ]
  },
  {
   "cell_type": "code",
   "execution_count": 18,
   "metadata": {
    "collapsed": true
   },
   "outputs": [],
   "source": [
    "x1 = data['flash_episode'].astype(float)\n",
    "y1 = data['flash_us_viewers'].astype(float)\n",
    "x2 = data['arrow_episode'].astype(float)\n",
    "y2 = data['arrow_us_viewers'].astype(float)"
   ]
  },
  {
   "cell_type": "code",
   "execution_count": 30,
   "metadata": {
    "collapsed": false
   },
   "outputs": [
    {
     "data": {
      "text/plain": [
       "<matplotlib.text.Text at 0x7ff644706d90>"
      ]
     },
     "execution_count": 30,
     "metadata": {},
     "output_type": "execute_result"
    },
    {
     "data": {
      "image/png": "[encoded data removed]",
      "text/plain": [
       "<matplotlib.figure.Figure at 0x7ff644774390>"
      ]
     },
     "metadata": {},
     "output_type": "display_data"
    }
   ],
   "source": [
    "\n",
    "# Create a figure\n",
    "plt.figure(figsize=(8,5))\n",
    "\n",
    "# Create a scatterplot of,\n",
    "          \n",
    "plt.scatter(x1,\n",
    "            \n",
    "            y1,\n",
    "            # the marker as\n",
    "            marker='o',\n",
    "            # the color\n",
    "            color='c',\n",
    "            # the alpha\n",
    "            alpha=0.7,\n",
    "            # with size\n",
    "            s = 200,\n",
    "            )\n",
    "plt.scatter(x1,\n",
    "            \n",
    "            y2,\n",
    "            # the marker as\n",
    "            marker='o',\n",
    "            # the color\n",
    "            color='crimson',\n",
    "            # the alpha\n",
    "            alpha=0.7,\n",
    "            # with size\n",
    "            s = 200,\n",
    "            )\n",
    "plt.plot(x1, y1, c='c')\n",
    "plt.plot(x1, y2, c='crimson')\n",
    "plt.grid()\n",
    "p1 = plt.Rectangle((0, 0), 0.1, 0.1, fc='c')\n",
    "p2 = plt.Rectangle((0, 0), 0.1, 0.1, fc='crimson')\n",
    "plt.legend((p1, p2), ('FLASH', 'ARROW'), loc='best')\n",
    "plt.xlabel('episode number')\n",
    "plt.ylabel('No. of viewrs')\n",
    "plt.title('TV Show ')"
   ]
  },
  {
   "cell_type": "code",
   "execution_count": 3,
   "metadata": {
    "collapsed": true
   },
   "outputs": [],
   "source": [
    "x1 = data['flash_episode'].astype(float)\n",
    "y1 = data['flash_us_viewers'].astype(float)\n",
    "x2 = data['arrow_episode'].astype(float)\n",
    "y2 = data['arrow_us_viewers'].astype(float)"
   ]
  },
  {
   "cell_type": "code",
   "execution_count": 4,
   "metadata": {
    "collapsed": false
   },
   "outputs": [],
   "source": [
    "x1=x1.reshape(9,1)\n",
    "y1=y1.reshape(9,1)\n",
    "x2=x2.reshape(9,1)\n",
    "y2=y2.reshape(9,1)\n"
   ]
  },
  {
   "cell_type": "code",
   "execution_count": 7,
   "metadata": {
    "collapsed": false
   },
   "outputs": [],
   "source": [
    "def predict_tv_show(x1,y1,x2,y2):\n",
    "    regr1 = linear_model.LinearRegression()\n",
    "    regr2 = linear_model.LinearRegression()\n",
    "    regr1.fit(x1, y1)\n",
    "    regr2.fit(x2,y2)\n",
    "    predicted_value1 = regr1.predict(9)\n",
    "    predicted_value2 = regr2.predict(9)\n",
    "    print predicted_value1\n",
    "    print predicted_value2\n",
    "    if predicted_value1 > predicted_value2:\n",
    "        print \"The Flash Tv Show will have more viewers for next week\"\n",
    "    else:\n",
    "        print \"Arrow Tv Show will have more viewers for next week\"\n",
    "    "
   ]
  },
  {
   "cell_type": "code",
   "execution_count": 8,
   "metadata": {
    "collapsed": false
   },
   "outputs": [
    {
     "name": "stdout",
     "output_type": "stream",
     "text": [
      "[[ 4.06377778]]\n",
      "[[ 3.19244444]]\n",
      "The Flash Tv Show will have more viewers for next week\n"
     ]
    }
   ],
   "source": [
    "predict_tv_show(x1,y1,x2,y2)"
   ]
  },
  {
   "cell_type": "code",
   "execution_count": null,
   "metadata": {
    "collapsed": true
   },
   "outputs": [],
   "source": []
  }
 ],
 "metadata": {
  "kernelspec": {
   "display_name": "Python 2",
   "language": "python",
   "name": "python2"
  },
  "language_info": {
   "codemirror_mode": {
    "name": "ipython",
    "version": 2
   },
   "file_extension": ".py",
   "mimetype": "text/x-python",
   "name": "python",
   "nbconvert_exporter": "python",
   "pygments_lexer": "ipython2",
   "version": "2.7.9"
  }
 },
 "nbformat": 4,
 "nbformat_minor": 0
}
